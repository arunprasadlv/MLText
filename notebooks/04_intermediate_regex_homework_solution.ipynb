{
 "cells": [
  {
   "cell_type": "markdown",
   "metadata": {},
   "source": [
    "# Intermediate Regex Homework (Solution)"
   ]
  },
  {
   "cell_type": "code",
   "execution_count": 1,
   "metadata": {
    "collapsed": true
   },
   "outputs": [],
   "source": [
    "# for Python 2: use print only as a function\n",
    "from __future__ import print_function"
   ]
  },
  {
   "cell_type": "markdown",
   "metadata": {},
   "source": [
    "## UFO sightings\n",
    "\n",
    "The [ufo-reports](https://github.com/planetsig/ufo-reports) GitHub repository contains reports of UFO sightings downloaded from the [National UFO Reporting Center](http://www.nuforc.org/) website. One of the data fields is the **duration of the sighting**, which includes **free-form text**. These are some example entries:\n",
    "\n",
    "- 45 minutes\n",
    "- 1-2 hrs\n",
    "- 20 seconds\n",
    "- 1/2 hour\n",
    "- about 3 mins\n",
    "- several minutes\n",
    "- one hour?\n",
    "- 5min"
   ]
  },
  {
   "cell_type": "markdown",
   "metadata": {},
   "source": [
    "Here is **how to read in the file:**\n",
    "\n",
    "- Use the pandas **`read_csv()`** function to read directly from this [URL](https://raw.githubusercontent.com/planetsig/ufo-reports/master/csv-data/ufo-scrubbed-geocoded-time-standardized.csv).\n",
    "- Use the **`header=None`** parameter to specify that the data does not have a header row.\n",
    "- Use the **`nrows=100`** parameter to specify that you only want to read in the first 100 rows.\n",
    "- Save the relevant Series as a Python list, just like we did in a class exercise."
   ]
  },
  {
   "cell_type": "markdown",
   "metadata": {},
   "source": [
    "Your assignment is to **normalize the duration data for the first 100 rows** by splitting each entry into two parts:\n",
    "\n",
    "- The first part should be a **number**: either a whole number (such as '45') or a decimal (such as '0.5').\n",
    "- The second part should be a **unit of time**: either 'hr' or 'min' or 'sec'\n",
    "\n",
    "The expected output is a **list of tuples**, containing the **original (unedited) string**, the **number**, and the **unit of time**. Here is a what the output should look like:\n",
    "\n",
    "> `clean_durations = [('45 minutes', '45', 'min'), ('1-2 hrs', '1', 'hr'), ('20 seconds', '20', 'sec'), ...]`"
   ]
  },
  {
   "cell_type": "markdown",
   "metadata": {},
   "source": [
    "Here are the **\"rules\" and guiding principles** for this assignment:\n",
    "\n",
    "- The normalized duration does not have to be exactly correct, but it must be at least **within the given range**. For example:\n",
    "    - If the duration is '20-30 min', acceptable answers include '20 min' and '30 min'.\n",
    "    - If the duration is '1/2 hour', the only acceptable answer is '0.5 hr'.\n",
    "- When a number is not given, you should make a **\"reasonable\" substitution for the words**. For example:\n",
    "    - If the duration is 'several minutes', you can approximate this as '5 min'.\n",
    "    - If the duration is 'couple minutes', you can approximate this as '2 min'.\n",
    "- You are not allowed to **skip any entries**. (Your list of tuples should have a length of 100.)\n",
    "- Try to use **as few substitutions as possible**, and make your regular expression **as simple as possible**.\n",
    "- Just because you don't get an error doesn't mean that your code was successful. Instead, you should **check each entry by hand** to see if it produced an acceptable result."
   ]
  },
  {
   "cell_type": "markdown",
   "metadata": {},
   "source": [
    "**Bonus tasks:**\n",
    "\n",
    "- Try reading in **more than 100 rows**, and see if your code still produces the correct results.\n",
    "- When a range is specified (such as '1-2 hrs' or '10 to 15 sec'), **calculate the exact midpoint** ('1.5 hr' or '12.5 sec') to use in your normalized data."
   ]
  },
  {
   "cell_type": "code",
   "execution_count": 2,
   "metadata": {
    "collapsed": false,
    "scrolled": true
   },
   "outputs": [
    {
     "data": {
      "text/html": [
       "<div>\n",
       "<table border=\"1\" class=\"dataframe\">\n",
       "  <thead>\n",
       "    <tr style=\"text-align: right;\">\n",
       "      <th></th>\n",
       "      <th>0</th>\n",
       "      <th>1</th>\n",
       "      <th>2</th>\n",
       "      <th>3</th>\n",
       "      <th>4</th>\n",
       "      <th>5</th>\n",
       "      <th>6</th>\n",
       "      <th>7</th>\n",
       "      <th>8</th>\n",
       "      <th>9</th>\n",
       "      <th>10</th>\n",
       "    </tr>\n",
       "  </thead>\n",
       "  <tbody>\n",
       "    <tr>\n",
       "      <th>0</th>\n",
       "      <td>10/10/1949 20:30</td>\n",
       "      <td>san marcos</td>\n",
       "      <td>tx</td>\n",
       "      <td>us</td>\n",
       "      <td>cylinder</td>\n",
       "      <td>2700</td>\n",
       "      <td>45 minutes</td>\n",
       "      <td>This event took place in early fall around 194...</td>\n",
       "      <td>4/27/2004</td>\n",
       "      <td>29.883056</td>\n",
       "      <td>-97.941111</td>\n",
       "    </tr>\n",
       "    <tr>\n",
       "      <th>1</th>\n",
       "      <td>10/10/1949 21:00</td>\n",
       "      <td>lackland afb</td>\n",
       "      <td>tx</td>\n",
       "      <td>NaN</td>\n",
       "      <td>light</td>\n",
       "      <td>7200</td>\n",
       "      <td>1-2 hrs</td>\n",
       "      <td>1949 Lackland AFB&amp;#44 TX.  Lights racing acros...</td>\n",
       "      <td>12/16/2005</td>\n",
       "      <td>29.384210</td>\n",
       "      <td>-98.581082</td>\n",
       "    </tr>\n",
       "    <tr>\n",
       "      <th>2</th>\n",
       "      <td>10/10/1955 17:00</td>\n",
       "      <td>chester (uk/england)</td>\n",
       "      <td>NaN</td>\n",
       "      <td>gb</td>\n",
       "      <td>circle</td>\n",
       "      <td>20</td>\n",
       "      <td>20 seconds</td>\n",
       "      <td>Green/Orange circular disc over Chester&amp;#44 En...</td>\n",
       "      <td>1/21/2008</td>\n",
       "      <td>53.200000</td>\n",
       "      <td>-2.916667</td>\n",
       "    </tr>\n",
       "    <tr>\n",
       "      <th>3</th>\n",
       "      <td>10/10/1956 21:00</td>\n",
       "      <td>edna</td>\n",
       "      <td>tx</td>\n",
       "      <td>us</td>\n",
       "      <td>circle</td>\n",
       "      <td>20</td>\n",
       "      <td>1/2 hour</td>\n",
       "      <td>My older brother and twin sister were leaving ...</td>\n",
       "      <td>1/17/2004</td>\n",
       "      <td>28.978333</td>\n",
       "      <td>-96.645833</td>\n",
       "    </tr>\n",
       "    <tr>\n",
       "      <th>4</th>\n",
       "      <td>10/10/1960 20:00</td>\n",
       "      <td>kaneohe</td>\n",
       "      <td>hi</td>\n",
       "      <td>us</td>\n",
       "      <td>light</td>\n",
       "      <td>900</td>\n",
       "      <td>15 minutes</td>\n",
       "      <td>AS a Marine 1st Lt. flying an FJ4B fighter/att...</td>\n",
       "      <td>1/22/2004</td>\n",
       "      <td>21.418056</td>\n",
       "      <td>-157.803611</td>\n",
       "    </tr>\n",
       "  </tbody>\n",
       "</table>\n",
       "</div>"
      ],
      "text/plain": [
       "                 0                     1    2    3         4     5   \\\n",
       "0  10/10/1949 20:30            san marcos   tx   us  cylinder  2700   \n",
       "1  10/10/1949 21:00          lackland afb   tx  NaN     light  7200   \n",
       "2  10/10/1955 17:00  chester (uk/england)  NaN   gb    circle    20   \n",
       "3  10/10/1956 21:00                  edna   tx   us    circle    20   \n",
       "4  10/10/1960 20:00               kaneohe   hi   us     light   900   \n",
       "\n",
       "           6                                                  7           8   \\\n",
       "0  45 minutes  This event took place in early fall around 194...   4/27/2004   \n",
       "1     1-2 hrs  1949 Lackland AFB&#44 TX.  Lights racing acros...  12/16/2005   \n",
       "2  20 seconds  Green/Orange circular disc over Chester&#44 En...   1/21/2008   \n",
       "3    1/2 hour  My older brother and twin sister were leaving ...   1/17/2004   \n",
       "4  15 minutes  AS a Marine 1st Lt. flying an FJ4B fighter/att...   1/22/2004   \n",
       "\n",
       "          9           10  \n",
       "0  29.883056  -97.941111  \n",
       "1  29.384210  -98.581082  \n",
       "2  53.200000   -2.916667  \n",
       "3  28.978333  -96.645833  \n",
       "4  21.418056 -157.803611  "
      ]
     },
     "execution_count": 2,
     "metadata": {},
     "output_type": "execute_result"
    }
   ],
   "source": [
    "import pandas as pd\n",
    "url = 'https://raw.githubusercontent.com/planetsig/ufo-reports/master/csv-data/ufo-scrubbed-geocoded-time-standardized.csv'\n",
    "ufo = pd.read_csv(url, header=None, nrows=100)\n",
    "ufo.head()"
   ]
  },
  {
   "cell_type": "code",
   "execution_count": 3,
   "metadata": {
    "collapsed": false,
    "scrolled": true
   },
   "outputs": [
    {
     "name": "stdout",
     "output_type": "stream",
     "text": [
      "['45 minutes', '1-2 hrs', '20 seconds', '1/2 hour', '15 minutes', '5 minutes', 'about 3 mins', '20 minutes', '3  minutes', 'several minutes', '5 min.', '3 minutes', '30 min.', '3 minutes', '30 seconds', '20minutes', '2 minutes', '20-30 min', '20 sec.', '45 minutes', '20 minutes', 'one hour?', '5-6 minutes', '1 minute', '3 seconds', '30 seconds', 'approx: 30 seconds', '5min', '15 minutes', '4.5 or more min.', '3 minutes', '30mins.', '3 min', '5 minutes', '3 to 5 min', '2min', '1 minute', 'couple minutes', '15-20 seconds', '10min', '3 minutes', '10 minutes', 'few minutes', '1 minute', '2 sec.', 'approx 5 min', '1 minute', '3min', '2 minutes', '30 minutes', '10 minutes', '1 hour(?)', '10 seconds', '1min. 39s', '30 seconds', '20 minutes', '8 seconds', 'less than 1 min', '1 hour', '2 minutes', '5 seconds', '~1 hour', '2 min.', '1 minute', '3sec', '5 min', '5 min', '1 minute', '4 hours', '30 seconds', '<5 minutes', '1-hour', '5 minutes', '10 to 15 sec', '30 +/- min', '10 minutes', '45min.', '< 1 min', '10 minutes', '2 seconds', '2 hours', '15 seconds', '1 hour', '5-10 min.', '10 seconds', '1 hour', '45 secs', '60-90 sec', '3 hours', '5 min', 'several minutes', '4 minutes', '45 minutes', '3 minutes', '10 seconds', '30seconds', '45 seconds', '15 seconds', '30 min.', '4-5 seconds']\n"
     ]
    }
   ],
   "source": [
    "# save the '6' Series as a Python list\n",
    "durations = ufo[6].tolist()\n",
    "print(durations)"
   ]
  },
  {
   "cell_type": "code",
   "execution_count": 4,
   "metadata": {
    "collapsed": true
   },
   "outputs": [],
   "source": [
    "import re"
   ]
  },
  {
   "cell_type": "code",
   "execution_count": 5,
   "metadata": {
    "collapsed": true
   },
   "outputs": [],
   "source": [
    "# find a whole number or a decimal (such as '20' or '4.5')\n",
    "pattern_number = re.compile(r'[\\d.]+')\n",
    "\n",
    "# find a fraction (such as '1/2')\n",
    "pattern_fraction = re.compile(r'(\\d+)/(\\d+)')\n",
    "\n",
    "# find a range (such as '20-30' or '20 to 30')\n",
    "pattern_range = re.compile(r'(\\d+)(-| to )(\\d+)')\n",
    "\n",
    "# find a word that needs a substitution\n",
    "pattern_substitution = re.compile(r'several|couple|few|one')\n",
    "substitutions = {'several':'5', 'couple':'2', 'few':'2', 'one':'1'}\n",
    "\n",
    "# find a time unit\n",
    "pattern_time = re.compile(r'hour|hr|min|sec')"
   ]
  },
  {
   "cell_type": "code",
   "execution_count": 6,
   "metadata": {
    "collapsed": false
   },
   "outputs": [
    {
     "data": {
      "text/plain": [
       "[('45 minutes', '45', 'min'),\n",
       " ('1-2 hrs', '1.5', 'hr'),\n",
       " ('20 seconds', '20', 'sec'),\n",
       " ('1/2 hour', '0.5', 'hr'),\n",
       " ('15 minutes', '15', 'min'),\n",
       " ('5 minutes', '5', 'min'),\n",
       " ('about 3 mins', '3', 'min'),\n",
       " ('20 minutes', '20', 'min'),\n",
       " ('3  minutes', '3', 'min'),\n",
       " ('several minutes', '5', 'min'),\n",
       " ('5 min.', '5', 'min'),\n",
       " ('3 minutes', '3', 'min'),\n",
       " ('30 min.', '30', 'min'),\n",
       " ('3 minutes', '3', 'min'),\n",
       " ('30 seconds', '30', 'sec'),\n",
       " ('20minutes', '20', 'min'),\n",
       " ('2 minutes', '2', 'min'),\n",
       " ('20-30 min', '25.0', 'min'),\n",
       " ('20 sec.', '20', 'sec'),\n",
       " ('45 minutes', '45', 'min'),\n",
       " ('20 minutes', '20', 'min'),\n",
       " ('one hour?', '1', 'hr'),\n",
       " ('5-6 minutes', '5.5', 'min'),\n",
       " ('1 minute', '1', 'min'),\n",
       " ('3 seconds', '3', 'sec'),\n",
       " ('30 seconds', '30', 'sec'),\n",
       " ('approx: 30 seconds', '30', 'sec'),\n",
       " ('5min', '5', 'min'),\n",
       " ('15 minutes', '15', 'min'),\n",
       " ('4.5 or more min.', '4.5', 'min'),\n",
       " ('3 minutes', '3', 'min'),\n",
       " ('30mins.', '30', 'min'),\n",
       " ('3 min', '3', 'min'),\n",
       " ('5 minutes', '5', 'min'),\n",
       " ('3 to 5 min', '4.0', 'min'),\n",
       " ('2min', '2', 'min'),\n",
       " ('1 minute', '1', 'min'),\n",
       " ('couple minutes', '2', 'min'),\n",
       " ('15-20 seconds', '17.5', 'sec'),\n",
       " ('10min', '10', 'min'),\n",
       " ('3 minutes', '3', 'min'),\n",
       " ('10 minutes', '10', 'min'),\n",
       " ('few minutes', '2', 'min'),\n",
       " ('1 minute', '1', 'min'),\n",
       " ('2 sec.', '2', 'sec'),\n",
       " ('approx 5 min', '5', 'min'),\n",
       " ('1 minute', '1', 'min'),\n",
       " ('3min', '3', 'min'),\n",
       " ('2 minutes', '2', 'min'),\n",
       " ('30 minutes', '30', 'min'),\n",
       " ('10 minutes', '10', 'min'),\n",
       " ('1 hour(?)', '1', 'hr'),\n",
       " ('10 seconds', '10', 'sec'),\n",
       " ('1min. 39s', '1', 'min'),\n",
       " ('30 seconds', '30', 'sec'),\n",
       " ('20 minutes', '20', 'min'),\n",
       " ('8 seconds', '8', 'sec'),\n",
       " ('less than 1 min', '1', 'min'),\n",
       " ('1 hour', '1', 'hr'),\n",
       " ('2 minutes', '2', 'min'),\n",
       " ('5 seconds', '5', 'sec'),\n",
       " ('~1 hour', '1', 'hr'),\n",
       " ('2 min.', '2', 'min'),\n",
       " ('1 minute', '1', 'min'),\n",
       " ('3sec', '3', 'sec'),\n",
       " ('5 min', '5', 'min'),\n",
       " ('5 min', '5', 'min'),\n",
       " ('1 minute', '1', 'min'),\n",
       " ('4 hours', '4', 'hr'),\n",
       " ('30 seconds', '30', 'sec'),\n",
       " ('<5 minutes', '5', 'min'),\n",
       " ('1-hour', '1', 'hr'),\n",
       " ('5 minutes', '5', 'min'),\n",
       " ('10 to 15 sec', '12.5', 'sec'),\n",
       " ('30 +/- min', '30', 'min'),\n",
       " ('10 minutes', '10', 'min'),\n",
       " ('45min.', '45', 'min'),\n",
       " ('< 1 min', '1', 'min'),\n",
       " ('10 minutes', '10', 'min'),\n",
       " ('2 seconds', '2', 'sec'),\n",
       " ('2 hours', '2', 'hr'),\n",
       " ('15 seconds', '15', 'sec'),\n",
       " ('1 hour', '1', 'hr'),\n",
       " ('5-10 min.', '7.5', 'min'),\n",
       " ('10 seconds', '10', 'sec'),\n",
       " ('1 hour', '1', 'hr'),\n",
       " ('45 secs', '45', 'sec'),\n",
       " ('60-90 sec', '75.0', 'sec'),\n",
       " ('3 hours', '3', 'hr'),\n",
       " ('5 min', '5', 'min'),\n",
       " ('several minutes', '5', 'min'),\n",
       " ('4 minutes', '4', 'min'),\n",
       " ('45 minutes', '45', 'min'),\n",
       " ('3 minutes', '3', 'min'),\n",
       " ('10 seconds', '10', 'sec'),\n",
       " ('30seconds', '30', 'sec'),\n",
       " ('45 seconds', '45', 'sec'),\n",
       " ('15 seconds', '15', 'sec'),\n",
       " ('30 min.', '30', 'min'),\n",
       " ('4-5 seconds', '4.5', 'sec')]"
      ]
     },
     "execution_count": 6,
     "metadata": {},
     "output_type": "execute_result"
    }
   ],
   "source": [
    "clean_durations = []\n",
    "\n",
    "for text in durations:\n",
    "    \n",
    "    # search for each pattern and store the resulting match object (will be 'None' if not found)\n",
    "    match_number = pattern_number.search(text)\n",
    "    match_fraction = pattern_fraction.search(text)\n",
    "    match_range = pattern_range.search(text)\n",
    "    match_substitution = pattern_substitution.search(text)\n",
    "    match_time = pattern_time.search(text)\n",
    "    \n",
    "    if match_range:\n",
    "        # calculate the midpoint of the range\n",
    "        range_start = float(match_range.group(1))\n",
    "        range_end = float(match_range.group(3))\n",
    "        number = str((range_start + range_end) / 2)\n",
    "    elif match_fraction:\n",
    "        # convert the fraction into a decimal\n",
    "        numerator = float(match_fraction.group(1))\n",
    "        denominator = float(match_fraction.group(2))\n",
    "        number = str(numerator / denominator)\n",
    "    elif match_number:\n",
    "        # store the first number found\n",
    "        number = match_number.group()\n",
    "    elif match_substitution:\n",
    "        # convert the word into a number\n",
    "        number = substitutions[match_substitution.group()]\n",
    "    else:\n",
    "        # flag any instances for which no number was found\n",
    "        number = 'not found'\n",
    "    \n",
    "    if match_time:\n",
    "        # find the time unit and standardize it\n",
    "        time = match_time.group()\n",
    "        standard_time = re.sub(r'hour', r'hr', time)\n",
    "    else:\n",
    "        # flag any instances for which no time unit was found\n",
    "        standard_time = 'not found'\n",
    "    \n",
    "    # save the results\n",
    "    clean_durations.append((text, number, standard_time))\n",
    "\n",
    "clean_durations"
   ]
  },
  {
   "cell_type": "markdown",
   "metadata": {},
   "source": [
    "**Remarks:** My approach does very well with the first 100 rows, though it does not look for multiple time units in the same text (such as '1min. 39s')."
   ]
  },
  {
   "cell_type": "code",
   "execution_count": 7,
   "metadata": {
    "collapsed": false
   },
   "outputs": [
    {
     "name": "stdout",
     "output_type": "stream",
     "text": [
      "['10 sec', '1min', '4 min.s', '3 minutes', '+5 minutes', '2/min.', '3-5 minutes', '15 min. apprx', 'less then a minute', '30 seconds', '00:43', 'about5seconds', '10 mins', '90 seconds', '2 minutes approx', '30 minutes', '2min', '2 minute', '5 min', '30 minutes', '10 minutes', '12-15 seconds', 'over 5 hours', '1 1/2 hr.', '3 minutes', '45minutes', '30min', '2 - 3 minutes', '45 min', '20minutes', '5 seconds', '15 seconds', '5:00', '10 sec', '3 minutes', '1 hour', '4min', '20 min', '15 min', '1/2 hour', 'a few hours', '1 min', '45-50 mins', 'one + minutes', '30 seconds', '30 minutes', '10 seconds', '5 minutes', '5/6 minutes', '4 minutes', '60 min', '20 min', '10 minutes', '5 min.', 'one hour', '10 minutes', '<10 sec.', '10 minutes', '8-10 minutes', 'a few seconds', '6 mins', '1-2 mins', '2 minutes', '5 min', '5 minutes', '4 hours', '1 hour', '45 minutes+', '30 seconds', '10 min.', '3 hours', '1 to 1 1/2 minutes', '3 seconds', 'appx. 1 minute', 'approx 3 mins', '1 hour', '30 seconds', '2 mins', '35 seconds', '10 minutes', '10 minutes', '1:00:00', '4 seconds', '15 seconds', '10 min', '2 min. approx', '5 min', '4 min', '10 mins', '10 minutes+', '45 seconds', '1 minute', '15 minutes', '10 minutes', '10 seconds', '2 minutes', '1 minute', '3 minutes', '5 minutes', '15 minutes']\n"
     ]
    }
   ],
   "source": [
    "# examine the next 100 durations\n",
    "ufo_next = pd.read_csv(url, header=None, skiprows=100, nrows=100)\n",
    "print(ufo_next[6].tolist())"
   ]
  },
  {
   "cell_type": "markdown",
   "metadata": {},
   "source": [
    "**Remarks:** My approach was tuned to the first 100 rows, and thus it would need to be further adjusted to handle the following cases:\n",
    "\n",
    "- **less then a minute**: I need to substitute '1' for 'a'.\n",
    "- **00:43** and **5:00** and **1:00:00**: I need to handle cases in which the time unit is not stated explicitly.\n",
    "- **1 1/2 hr.**: I need to handle mixed numbers.\n",
    "- **2 - 3 minutes**: I need to allow for spaces around the dash in time ranges.\n",
    "- **5/6 minutes**: I need to handle cases in which apparent fractions are actually intended to represent time ranges.\n",
    "- **1 to 1 1/2 minutes**: I need to handle ranges that include mixed numbers.\n",
    "\n",
    "I would guess that if I continued to tune my approach to appropriately handle nearly all of the first 1000 rows, it would produce highly accurate (though not perfect) results for the remaining rows."
   ]
  }
 ],
 "metadata": {
  "kernelspec": {
   "display_name": "Python 2",
   "language": "python",
   "name": "python2"
  },
  "language_info": {
   "codemirror_mode": {
    "name": "ipython",
    "version": 2
   },
   "file_extension": ".py",
   "mimetype": "text/x-python",
   "name": "python",
   "nbconvert_exporter": "python",
   "pygments_lexer": "ipython2",
   "version": "2.7.11"
  }
 },
 "nbformat": 4,
 "nbformat_minor": 0
}
