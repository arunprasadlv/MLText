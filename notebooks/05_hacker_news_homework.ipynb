{
 "cells": [
  {
   "cell_type": "markdown",
   "metadata": {},
   "source": [
    "# Homework with Hacker News data\n",
    "\n",
    "## About Hacker News\n",
    "\n",
    "[Hacker News](https://news.ycombinator.com/) is a popular \"social news\" website run by the startup incubator Y Combinator. It primarily includes news about technology, but also includes job postings and community-generated questions.\n",
    "\n",
    "Any user can [submit](https://news.ycombinator.com/submit) a post to Hacker News. There are two types of posts: articles and discussions. To submit an **article**, the user includes a title and a URL. To submit a **discussion**, the user includes a title and additional text.\n",
    "\n",
    "Users can upvote posts that they find interesting. Every post starts at 1 point, and each upvote adds an additional point. The most popular recent posts appear on the front page of Hacker News.\n",
    "\n",
    "## Description of the data\n",
    "\n",
    "A [dataset of Hacker News posts](https://www.kaggle.com/hacker-news/hacker-news-posts) is hosted on Kaggle Datasets. It includes about one year of data, ending in September 2016. The following fields are included in the dataset:\n",
    "\n",
    "- **title:** title of the post\n",
    "- **url:** URL of the post (if any)\n",
    "- **num_points:** number of points that the post received\n",
    "- **num_comments:** number of user comments on the post\n",
    "- **author:** name of the user that submitted the post\n",
    "- **created_at:** date and time the post was submitted\n",
    "\n",
    "## Problem statement\n",
    "\n",
    "Your goal is to predict the likelihood that a post will be \"popular\", based on the data that is available at the time the post is submitted.\n",
    "\n",
    "## Tasks\n",
    "\n",
    "1. Get the data\n",
    "2. Prepare the data\n",
    "3. Explore the training data\n",
    "4. Feature engineering\n",
    "5. Define **`make_features()`**\n",
    "6. Evaluate your model using cross-validation\n",
    "7. Tune your model using grid search\n",
    "8. Make predictions for the new data\n",
    "9. Use text as the input data instead"
   ]
  },
  {
   "cell_type": "markdown",
   "metadata": {},
   "source": [
    "## Task 1: Get the data\n",
    "\n",
    "1. Go to the [Kaggle Datasets](https://www.kaggle.com/hacker-news/hacker-news-posts) page, and click the **Download** button.\n",
    "2. Unzip **`hacker-news-posts.zip`**, and then move **`HN_posts_year_to_Sep_26_2016.csv`** to a directory where you can easily access it.\n",
    "3. Read the file into a pandas DataFrame called **\"hn\"**.\n",
    "4. Either during or after the file reading process, convert the **created_at** column to datetime format.\n",
    "\n",
    "    - **Hint:** [How do I work with dates and times in pandas?](https://www.youtube.com/watch?v=yCgJGsg0Xa4&list=PL5-da3qGB5ICCsgW1MxlZ0Hq8LL5U3u9y&index=25) explains how to do this."
   ]
  },
  {
   "cell_type": "code",
   "execution_count": 35,
   "metadata": {
    "collapsed": false
   },
   "outputs": [
    {
     "data": {
      "text/plain": [
       "(293119, 7)"
      ]
     },
     "execution_count": 35,
     "metadata": {},
     "output_type": "execute_result"
    }
   ],
   "source": [
    "import pandas as pd\n",
    "path = '../data/hacker-news-posts/HN_posts_year_to_Sep_26_2016.csv'\n",
    "\n",
    "# read the the csv\n",
    "\n",
    "hn = pd.read_csv(path)\n",
    "hn.shape"
   ]
  },
  {
   "cell_type": "code",
   "execution_count": 36,
   "metadata": {
    "collapsed": false
   },
   "outputs": [
    {
     "data": {
      "text/html": [
       "<div>\n",
       "<table border=\"1\" class=\"dataframe\">\n",
       "  <thead>\n",
       "    <tr style=\"text-align: right;\">\n",
       "      <th></th>\n",
       "      <th>id</th>\n",
       "      <th>title</th>\n",
       "      <th>url</th>\n",
       "      <th>num_points</th>\n",
       "      <th>num_comments</th>\n",
       "      <th>author</th>\n",
       "      <th>created_at</th>\n",
       "    </tr>\n",
       "  </thead>\n",
       "  <tbody>\n",
       "    <tr>\n",
       "      <th>0</th>\n",
       "      <td>12579008</td>\n",
       "      <td>You have two days to comment if you want stem ...</td>\n",
       "      <td>http://www.regulations.gov/document?D=FDA-2015...</td>\n",
       "      <td>1</td>\n",
       "      <td>0</td>\n",
       "      <td>altstar</td>\n",
       "      <td>9/26/2016 3:26</td>\n",
       "    </tr>\n",
       "    <tr>\n",
       "      <th>1</th>\n",
       "      <td>12579005</td>\n",
       "      <td>SQLAR  the SQLite Archiver</td>\n",
       "      <td>https://www.sqlite.org/sqlar/doc/trunk/README.md</td>\n",
       "      <td>1</td>\n",
       "      <td>0</td>\n",
       "      <td>blacksqr</td>\n",
       "      <td>9/26/2016 3:24</td>\n",
       "    </tr>\n",
       "  </tbody>\n",
       "</table>\n",
       "</div>"
      ],
      "text/plain": [
       "         id                                              title  \\\n",
       "0  12579008  You have two days to comment if you want stem ...   \n",
       "1  12579005                         SQLAR  the SQLite Archiver   \n",
       "\n",
       "                                                 url  num_points  \\\n",
       "0  http://www.regulations.gov/document?D=FDA-2015...           1   \n",
       "1   https://www.sqlite.org/sqlar/doc/trunk/README.md           1   \n",
       "\n",
       "   num_comments    author      created_at  \n",
       "0             0   altstar  9/26/2016 3:26  \n",
       "1             0  blacksqr  9/26/2016 3:24  "
      ]
     },
     "execution_count": 36,
     "metadata": {},
     "output_type": "execute_result"
    }
   ],
   "source": [
    "hn.head(2)"
   ]
  },
  {
   "cell_type": "code",
   "execution_count": 39,
   "metadata": {
    "collapsed": false
   },
   "outputs": [
    {
     "data": {
      "text/html": [
       "<div>\n",
       "<table border=\"1\" class=\"dataframe\">\n",
       "  <thead>\n",
       "    <tr style=\"text-align: right;\">\n",
       "      <th></th>\n",
       "      <th>id</th>\n",
       "      <th>title</th>\n",
       "      <th>url</th>\n",
       "      <th>num_points</th>\n",
       "      <th>num_comments</th>\n",
       "      <th>author</th>\n",
       "      <th>created_at</th>\n",
       "    </tr>\n",
       "  </thead>\n",
       "  <tbody>\n",
       "    <tr>\n",
       "      <th>0</th>\n",
       "      <td>12579008</td>\n",
       "      <td>You have two days to comment if you want stem ...</td>\n",
       "      <td>http://www.regulations.gov/document?D=FDA-2015...</td>\n",
       "      <td>1</td>\n",
       "      <td>0</td>\n",
       "      <td>altstar</td>\n",
       "      <td>2016-09-26 03:26:00</td>\n",
       "    </tr>\n",
       "    <tr>\n",
       "      <th>1</th>\n",
       "      <td>12579005</td>\n",
       "      <td>SQLAR  the SQLite Archiver</td>\n",
       "      <td>https://www.sqlite.org/sqlar/doc/trunk/README.md</td>\n",
       "      <td>1</td>\n",
       "      <td>0</td>\n",
       "      <td>blacksqr</td>\n",
       "      <td>2016-09-26 03:24:00</td>\n",
       "    </tr>\n",
       "  </tbody>\n",
       "</table>\n",
       "</div>"
      ],
      "text/plain": [
       "         id                                              title  \\\n",
       "0  12579008  You have two days to comment if you want stem ...   \n",
       "1  12579005                         SQLAR  the SQLite Archiver   \n",
       "\n",
       "                                                 url  num_points  \\\n",
       "0  http://www.regulations.gov/document?D=FDA-2015...           1   \n",
       "1   https://www.sqlite.org/sqlar/doc/trunk/README.md           1   \n",
       "\n",
       "   num_comments    author          created_at  \n",
       "0             0   altstar 2016-09-26 03:26:00  \n",
       "1             0  blacksqr 2016-09-26 03:24:00  "
      ]
     },
     "execution_count": 39,
     "metadata": {},
     "output_type": "execute_result"
    }
   ],
   "source": [
    "hn.created_at = pd.to_datetime(hn['created_at'])\n",
    "\n",
    "hn.head(2)"
   ]
  },
  {
   "cell_type": "code",
   "execution_count": 49,
   "metadata": {
    "collapsed": false
   },
   "outputs": [
    {
     "data": {
      "text/plain": [
       "id                       int64\n",
       "title                   object\n",
       "url                     object\n",
       "num_points               int64\n",
       "num_comments             int64\n",
       "author                  object\n",
       "created_at      datetime64[ns]\n",
       "popular                  int64\n",
       "dtype: object"
      ]
     },
     "execution_count": 49,
     "metadata": {},
     "output_type": "execute_result"
    }
   ],
   "source": [
    "hn.dtypes"
   ]
  },
  {
   "cell_type": "markdown",
   "metadata": {},
   "source": [
    "## Task 2: Prepare the data\n",
    "\n",
    "1. Create a new column called **\"popular\"** that contains **1** if the post received more than 5 points, and **0** otherwise. This will be the response variable that you are trying to predict.\n",
    "2. Split the **hn** DataFrame into two separate DataFrames. The first DataFrame should be called **\"train\"**, and should contain all posts before July 1, 2016. The second DataFrame should be called **\"new\"**, and should contain the remaining posts.\n",
    "\n",
    "    - **Hint:** [How do I work with dates and times in pandas?](https://www.youtube.com/watch?v=yCgJGsg0Xa4&list=PL5-da3qGB5ICCsgW1MxlZ0Hq8LL5U3u9y&index=25) explains how to do this. Make sure that all rows from **hn** are in either **train** or **new**, but not both.\n",
    "    - **Hint:** When you are creating **train** and **new**, you should use the [`DataFrame.copy()`](http://pandas.pydata.org/pandas-docs/stable/generated/pandas.DataFrame.copy.html) method to make sure that you are creating separate objects (rather than references to the **hn** DataFrame).\n",
    "    - **Note:** You will be building a model using the posts in **train** and making predictions for the posts in **new** (our simulated future data)."
   ]
  },
  {
   "cell_type": "code",
   "execution_count": 42,
   "metadata": {
    "collapsed": true
   },
   "outputs": [],
   "source": [
    "def popular_val(row):\n",
    "    if row['num_points'] > 5:\n",
    "        val=1\n",
    "    else:\n",
    "        val=0\n",
    "    return val"
   ]
  },
  {
   "cell_type": "code",
   "execution_count": 44,
   "metadata": {
    "collapsed": false
   },
   "outputs": [
    {
     "data": {
      "text/html": [
       "<div>\n",
       "<table border=\"1\" class=\"dataframe\">\n",
       "  <thead>\n",
       "    <tr style=\"text-align: right;\">\n",
       "      <th></th>\n",
       "      <th>id</th>\n",
       "      <th>title</th>\n",
       "      <th>url</th>\n",
       "      <th>num_points</th>\n",
       "      <th>num_comments</th>\n",
       "      <th>author</th>\n",
       "      <th>created_at</th>\n",
       "      <th>popular</th>\n",
       "    </tr>\n",
       "  </thead>\n",
       "  <tbody>\n",
       "    <tr>\n",
       "      <th>0</th>\n",
       "      <td>12579008</td>\n",
       "      <td>You have two days to comment if you want stem ...</td>\n",
       "      <td>http://www.regulations.gov/document?D=FDA-2015...</td>\n",
       "      <td>1</td>\n",
       "      <td>0</td>\n",
       "      <td>altstar</td>\n",
       "      <td>2016-09-26 03:26:00</td>\n",
       "      <td>0</td>\n",
       "    </tr>\n",
       "    <tr>\n",
       "      <th>1</th>\n",
       "      <td>12579005</td>\n",
       "      <td>SQLAR  the SQLite Archiver</td>\n",
       "      <td>https://www.sqlite.org/sqlar/doc/trunk/README.md</td>\n",
       "      <td>1</td>\n",
       "      <td>0</td>\n",
       "      <td>blacksqr</td>\n",
       "      <td>2016-09-26 03:24:00</td>\n",
       "      <td>0</td>\n",
       "    </tr>\n",
       "    <tr>\n",
       "      <th>2</th>\n",
       "      <td>12578997</td>\n",
       "      <td>What if we just printed a flatscreen televisio...</td>\n",
       "      <td>https://medium.com/vanmoof/our-secrets-out-f21...</td>\n",
       "      <td>1</td>\n",
       "      <td>0</td>\n",
       "      <td>pavel_lishin</td>\n",
       "      <td>2016-09-26 03:19:00</td>\n",
       "      <td>0</td>\n",
       "    </tr>\n",
       "    <tr>\n",
       "      <th>3</th>\n",
       "      <td>12578989</td>\n",
       "      <td>algorithmic music</td>\n",
       "      <td>http://cacm.acm.org/magazines/2011/7/109891-al...</td>\n",
       "      <td>1</td>\n",
       "      <td>0</td>\n",
       "      <td>poindontcare</td>\n",
       "      <td>2016-09-26 03:16:00</td>\n",
       "      <td>0</td>\n",
       "    </tr>\n",
       "    <tr>\n",
       "      <th>4</th>\n",
       "      <td>12578979</td>\n",
       "      <td>How the Data Vault Enables the Next-Gen Data W...</td>\n",
       "      <td>https://www.talend.com/blog/2016/05/12/talend-...</td>\n",
       "      <td>1</td>\n",
       "      <td>0</td>\n",
       "      <td>markgainor1</td>\n",
       "      <td>2016-09-26 03:14:00</td>\n",
       "      <td>0</td>\n",
       "    </tr>\n",
       "    <tr>\n",
       "      <th>5</th>\n",
       "      <td>12578975</td>\n",
       "      <td>Saving the Hassle of Shopping</td>\n",
       "      <td>https://blog.menswr.com/2016/09/07/whats-new-w...</td>\n",
       "      <td>1</td>\n",
       "      <td>1</td>\n",
       "      <td>bdoux</td>\n",
       "      <td>2016-09-26 03:13:00</td>\n",
       "      <td>0</td>\n",
       "    </tr>\n",
       "    <tr>\n",
       "      <th>6</th>\n",
       "      <td>12578954</td>\n",
       "      <td>Macalifa  A new open-source music app for UWP ...</td>\n",
       "      <td>http://forums.windowscentral.com/windows-phone...</td>\n",
       "      <td>1</td>\n",
       "      <td>0</td>\n",
       "      <td>thecodrr</td>\n",
       "      <td>2016-09-26 03:06:00</td>\n",
       "      <td>0</td>\n",
       "    </tr>\n",
       "    <tr>\n",
       "      <th>7</th>\n",
       "      <td>12578942</td>\n",
       "      <td>GitHub  theweavrs/Macalifa: A music player wri...</td>\n",
       "      <td>https://github.com/theweavrs/Macalifa</td>\n",
       "      <td>1</td>\n",
       "      <td>0</td>\n",
       "      <td>thecodrr</td>\n",
       "      <td>2016-09-26 03:04:00</td>\n",
       "      <td>0</td>\n",
       "    </tr>\n",
       "    <tr>\n",
       "      <th>8</th>\n",
       "      <td>12578919</td>\n",
       "      <td>Google Allo  first Impression</td>\n",
       "      <td>http://prodissues.com/2016/09/google-allo-firs...</td>\n",
       "      <td>3</td>\n",
       "      <td>0</td>\n",
       "      <td>jandll</td>\n",
       "      <td>2016-09-26 02:57:00</td>\n",
       "      <td>0</td>\n",
       "    </tr>\n",
       "    <tr>\n",
       "      <th>9</th>\n",
       "      <td>12578918</td>\n",
       "      <td>Advanced Multimedia on the Linux Command Line</td>\n",
       "      <td>https://avi.alkalay.net/2016/09/multimedia-lin...</td>\n",
       "      <td>1</td>\n",
       "      <td>0</td>\n",
       "      <td>mynameislegion</td>\n",
       "      <td>2016-09-26 02:56:00</td>\n",
       "      <td>0</td>\n",
       "    </tr>\n",
       "  </tbody>\n",
       "</table>\n",
       "</div>"
      ],
      "text/plain": [
       "         id                                              title  \\\n",
       "0  12579008  You have two days to comment if you want stem ...   \n",
       "1  12579005                         SQLAR  the SQLite Archiver   \n",
       "2  12578997  What if we just printed a flatscreen televisio...   \n",
       "3  12578989                                  algorithmic music   \n",
       "4  12578979  How the Data Vault Enables the Next-Gen Data W...   \n",
       "5  12578975                      Saving the Hassle of Shopping   \n",
       "6  12578954  Macalifa  A new open-source music app for UWP ...   \n",
       "7  12578942  GitHub  theweavrs/Macalifa: A music player wri...   \n",
       "8  12578919                      Google Allo  first Impression   \n",
       "9  12578918      Advanced Multimedia on the Linux Command Line   \n",
       "\n",
       "                                                 url  num_points  \\\n",
       "0  http://www.regulations.gov/document?D=FDA-2015...           1   \n",
       "1   https://www.sqlite.org/sqlar/doc/trunk/README.md           1   \n",
       "2  https://medium.com/vanmoof/our-secrets-out-f21...           1   \n",
       "3  http://cacm.acm.org/magazines/2011/7/109891-al...           1   \n",
       "4  https://www.talend.com/blog/2016/05/12/talend-...           1   \n",
       "5  https://blog.menswr.com/2016/09/07/whats-new-w...           1   \n",
       "6  http://forums.windowscentral.com/windows-phone...           1   \n",
       "7              https://github.com/theweavrs/Macalifa           1   \n",
       "8  http://prodissues.com/2016/09/google-allo-firs...           3   \n",
       "9  https://avi.alkalay.net/2016/09/multimedia-lin...           1   \n",
       "\n",
       "   num_comments          author          created_at  popular  \n",
       "0             0         altstar 2016-09-26 03:26:00        0  \n",
       "1             0        blacksqr 2016-09-26 03:24:00        0  \n",
       "2             0    pavel_lishin 2016-09-26 03:19:00        0  \n",
       "3             0    poindontcare 2016-09-26 03:16:00        0  \n",
       "4             0     markgainor1 2016-09-26 03:14:00        0  \n",
       "5             1           bdoux 2016-09-26 03:13:00        0  \n",
       "6             0        thecodrr 2016-09-26 03:06:00        0  \n",
       "7             0        thecodrr 2016-09-26 03:04:00        0  \n",
       "8             0          jandll 2016-09-26 02:57:00        0  \n",
       "9             0  mynameislegion 2016-09-26 02:56:00        0  "
      ]
     },
     "execution_count": 44,
     "metadata": {},
     "output_type": "execute_result"
    }
   ],
   "source": [
    "hn['popular'] = hn.apply(popular_val,axis=1)\n"
   ]
  },
  {
   "cell_type": "code",
   "execution_count": 51,
   "metadata": {
    "collapsed": false
   },
   "outputs": [
    {
     "data": {
      "text/plain": [
       "Timestamp('2016-07-01 00:00:00')"
      ]
     },
     "execution_count": 51,
     "metadata": {},
     "output_type": "execute_result"
    }
   ],
   "source": [
    "ts =pd.to_datetime('7/1/2016')\n",
    "ts"
   ]
  },
  {
   "cell_type": "code",
   "execution_count": 67,
   "metadata": {
    "collapsed": false
   },
   "outputs": [
    {
     "data": {
      "text/plain": [
       "(229000, 8)"
      ]
     },
     "execution_count": 67,
     "metadata": {},
     "output_type": "execute_result"
    }
   ],
   "source": [
    "#train should contain all rows before 7/1/2016\n",
    "train = pd.DataFrame()\n",
    "train = hn.loc[hn.created_at<ts,:]\n",
    "train.shape"
   ]
  },
  {
   "cell_type": "code",
   "execution_count": 70,
   "metadata": {
    "collapsed": false
   },
   "outputs": [
    {
     "data": {
      "text/plain": [
       "(64119, 8)"
      ]
     },
     "execution_count": 70,
     "metadata": {},
     "output_type": "execute_result"
    }
   ],
   "source": [
    "#remaining rows are copied to another dataframe\n",
    "\n",
    "new = hn.loc[hn.created_at>ts,:]\n",
    "new.shape"
   ]
  },
  {
   "cell_type": "markdown",
   "metadata": {},
   "source": [
    "## Task 3: Explore the training data\n",
    "\n",
    "Explore the **train** DataFrame to gain an understanding of the dataset.\n",
    "\n",
    "**Note:** At no time should you explore the **new** DataFrame, since this is our simulated future data which you would not have access to in the \"real world\"."
   ]
  },
  {
   "cell_type": "markdown",
   "metadata": {},
   "source": [
    "## Task 4: Feature engineering\n",
    "\n",
    "Create new features in **train** that you think might be relevant to predicting the response, **popular**. After creating each feature, check whether it is likely to be a useful feature.\n",
    "\n",
    "For this task, don't use **`CountVectorizer`**. (You will use it in Task 9 instead.)\n",
    "\n",
    "**Note:** Think very carefully about which features you would be \"allowed\" to use in the real world. If a feature incorporates future data that would not be available **at the time of post submission**, then it can't be used in your model."
   ]
  },
  {
   "cell_type": "markdown",
   "metadata": {},
   "source": [
    "## Task 5: Define **`make_features()`**\n",
    "\n",
    "1. Define a function, **`make_features()`**, that accepts a DataFrame and returns a DataFrame with your engineered features added. You should only include features that you think might be useful for predicting popularity.\n",
    "2. Re-split the **hn** DataFrame into **train** and **new** (using the code from Task 2) to return them to their original contents.\n",
    "3. Run **`make_features()`** on **train** and **new**, and check that your features were successfully created."
   ]
  },
  {
   "cell_type": "markdown",
   "metadata": {},
   "source": [
    "## Task 6: Evaluate your model using cross-validation\n",
    "\n",
    "1. Define **X** and **y** using your chosen feature columns from **train**.\n",
    "2. Choose a classification model, and then use **`cross_val_score`** to evaluate your model. We're going to use AUC as the evaluation metric, so use the parameter **`scoring='roc_auc'`**.\n",
    "3. **Optional:** Try adding features to your model that would not be \"allowed\" in the real world (because they incorporate information about the future), and see how that affects your AUC. (Be sure to remove these features from your model before moving on to the next task!)\n",
    "\n",
    "    - **Note:** An AUC of 1.0 represents a perfect model, and an AUC of 0.5 represents random guessing. You can think of 0.5 as the AUC of the \"null model\". (My [blog post and video](http://www.dataschool.io/roc-curves-and-auc-explained/) explain AUC in more depth.)"
   ]
  },
  {
   "cell_type": "markdown",
   "metadata": {},
   "source": [
    "## Task 7: Tune your model using grid search\n",
    "\n",
    "Use **`GridSearchCV`** to find the optimal tuning parameters for your model."
   ]
  },
  {
   "cell_type": "markdown",
   "metadata": {},
   "source": [
    "## Task 8: Make predictions for the new data\n",
    "\n",
    "1. Create a DataFrame called **\"X_new\"** that includes the same feature columns you used to train your model.\n",
    "2. Train your best model (found during grid search) using **X** and **y**.\n",
    "3. Calculate the predicted probability of popularity for all posts in **X_new**.\n",
    "4. Calculate the AUC of your model by evaluating your predicted probabilities against the **popular** column in the **new** DataFrame. (It should be similar to the AUC that was output by **`GridSearchCV`**.)\n",
    "\n",
    "    - **Hint:** [Evaluating a classification model](https://github.com/justmarkham/scikit-learn-videos/blob/master/09_classification_metrics.ipynb) explains how to calculate predicted probabilities and AUC."
   ]
  },
  {
   "cell_type": "markdown",
   "metadata": {},
   "source": [
    "## Task 9: Use text as the input data instead\n",
    "\n",
    "1. Define a new **X** using the **title** column from **train**.\n",
    "2. Create a **`Pipeline`** of **`CountVectorizer`** and the model of your choice.\n",
    "3. Use **`cross_val_score`** to properly evaluate the AUC of your pipeline.\n",
    "4. **Optional:** See if you can increase the AUC by changing what you use as the input text.\n",
    "5. Train the pipeline on **X** and **y**, calculate predicted probabilities for all posts in the **new** DataFrame, and calculate the AUC."
   ]
  }
 ],
 "metadata": {
  "kernelspec": {
   "display_name": "Python 2",
   "language": "python",
   "name": "python2"
  },
  "language_info": {
   "codemirror_mode": {
    "name": "ipython",
    "version": 2
   },
   "file_extension": ".py",
   "mimetype": "text/x-python",
   "name": "python",
   "nbconvert_exporter": "python",
   "pygments_lexer": "ipython2",
   "version": "2.7.11"
  }
 },
 "nbformat": 4,
 "nbformat_minor": 0
}
