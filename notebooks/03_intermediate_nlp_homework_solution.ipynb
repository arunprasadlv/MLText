{
 "cells": [
  {
   "cell_type": "markdown",
   "metadata": {},
   "source": [
    "# Intermediate NLP Homework (Solution)\n",
    "\n",
    "Using TF-IDF, write a document summarizer for a corpus of your choosing, but summarize using full sentences or paragraphs rather than individual words."
   ]
  },
  {
   "cell_type": "code",
   "execution_count": 1,
   "metadata": {
    "collapsed": true
   },
   "outputs": [],
   "source": [
    "# for Python 2: use print only as a function\n",
    "from __future__ import print_function"
   ]
  },
  {
   "cell_type": "code",
   "execution_count": 2,
   "metadata": {
    "collapsed": true
   },
   "outputs": [],
   "source": [
    "# read yelp.csv into a DataFrame using a relative path\n",
    "import pandas as pd\n",
    "path = '../data/yelp.csv'\n",
    "yelp = pd.read_csv(path)"
   ]
  },
  {
   "cell_type": "code",
   "execution_count": 3,
   "metadata": {
    "collapsed": false
   },
   "outputs": [
    {
     "data": {
      "text/plain": [
       "(10000, 29185)"
      ]
     },
     "execution_count": 3,
     "metadata": {},
     "output_type": "execute_result"
    }
   ],
   "source": [
    "# create a document-term matrix using TfidfVectorizer\n",
    "from sklearn.feature_extraction.text import TfidfVectorizer\n",
    "vect = TfidfVectorizer()\n",
    "dtm = vect.fit_transform(yelp.text)\n",
    "dtm.shape"
   ]
  },
  {
   "cell_type": "code",
   "execution_count": 4,
   "metadata": {
    "collapsed": false
   },
   "outputs": [
    {
     "data": {
      "text/plain": [
       "29185"
      ]
     },
     "execution_count": 4,
     "metadata": {},
     "output_type": "execute_result"
    }
   ],
   "source": [
    "# create a list of all of the features\n",
    "features = vect.get_feature_names()\n",
    "len(features)"
   ]
  },
  {
   "cell_type": "code",
   "execution_count": 5,
   "metadata": {
    "collapsed": true
   },
   "outputs": [],
   "source": [
    "import numpy as np\n",
    "from textblob import TextBlob\n",
    "from sklearn.feature_extraction.text import CountVectorizer\n",
    "\n",
    "def summarize():\n",
    "    \n",
    "    # choose a random review that has at least 10 sentences\n",
    "    num_sentences = 0\n",
    "    while num_sentences < 10:\n",
    "        review_id = np.random.randint(0, yelp.shape[0])\n",
    "        review_text = yelp.loc[review_id, 'text']\n",
    "        review_blob = TextBlob(review_text)\n",
    "        num_sentences = len(review_blob.sentences)\n",
    "    \n",
    "    # create a list of all unique words in the review using CountVectorizer\n",
    "    vect = CountVectorizer()\n",
    "    vect.fit([review_text])\n",
    "    unique_words = vect.get_feature_names()\n",
    "    \n",
    "    # create a dictionary of words and their TF-IDF scores\n",
    "    word_scores = {}\n",
    "    for word in unique_words:\n",
    "        word_scores[word] = dtm[review_id, features.index(word)]\n",
    "    \n",
    "    # calculate the mean TF-IDF score for each sentence that has at least 6 words\n",
    "    sentences = review_blob.sentences\n",
    "    sentence_scores = []\n",
    "    for sentence in sentences:\n",
    "        sentence_words = sentence.words.lower()\n",
    "        if len(sentence_words) >= 6:\n",
    "            sentence_score = np.mean([word_scores[word] for word in sentence_words if word in unique_words])\n",
    "            sentence_scores.append((sentence_score, sentence))\n",
    "    \n",
    "    # print sentences with the top 3 TF-IDF scores\n",
    "    print('TOP SCORING SENTENCES:')\n",
    "    top_scores = sorted(sentence_scores, reverse=True)[0:3]\n",
    "    for score, sentence in top_scores:\n",
    "        print(sentence)\n",
    "    \n",
    "    # print 3 random sentences (for comparison)\n",
    "    print('\\n' + 'RANDOM SENTENCES:')\n",
    "    random_sentences = np.random.choice(sentences, size=3, replace=False)\n",
    "    for sentence in random_sentences:\n",
    "        print(sentence)\n",
    "    \n",
    "    # print the review\n",
    "    print('\\n' + 'REVIEW:' + '\\n' + review_text)"
   ]
  },
  {
   "cell_type": "code",
   "execution_count": 6,
   "metadata": {
    "collapsed": false
   },
   "outputs": [
    {
     "name": "stdout",
     "output_type": "stream",
     "text": [
      "TOP SCORING SENTENCES:\n",
      "The pizza was really good (the fresh ingredients really come through), but we weren't the biggest fans of the crust.\n",
      "Service was great and we met Karen, the owner, before we left and she is a doll.\n",
      "We both had the Prosciutto Cruda pizza and had wanted to try the burrata, but unfortunately they'd been out of it for the last week so we ordered the bruschetta instead.\n",
      "\n",
      "RANDOM SENTENCES:\n",
      "I love love love their patio.\n",
      "Our waiter also recommended the Valpolicella Ripasso, which was ok, but it was a little light for our tastes.\n",
      "The heaters keep you warm on a chilly night and it's much quieter than their indoor space.\n",
      "\n",
      "REVIEW:\n",
      "So we finally decided to give Cibo another chance and I'm so glad we did!\r\n",
      "\r\n",
      "I love love love their patio. It's very cute and romantic especially with all the lights wrapped around the trees. The heaters keep you warm on a chilly night and it's much quieter than their indoor space. This place is a great date spot. \r\n",
      "\r\n",
      "We both had the Prosciutto Cruda pizza and had wanted to try the burrata, but unfortunately they'd been out of it for the last week so we ordered the bruschetta instead. Our waiter also recommended the Valpolicella Ripasso, which was ok, but it was a little light for our tastes. The pizza was really good (the fresh ingredients really come through), but we weren't the biggest fans of the crust. I like something more substantial and airy. But  for a thin crust pizza it wasn't soggy at all. A big plus! The bruschetta was also ok (don't get me wrong I still ate all of it and would order it again), but each bite just needs a little more of a punch. \r\n",
      "\r\n",
      "Service was great and we met Karen, the owner, before we left and she is a doll. We had a much better experience this time around and we will certainly be back.\n"
     ]
    }
   ],
   "source": [
    "summarize()"
   ]
  }
 ],
 "metadata": {
  "kernelspec": {
   "display_name": "Python 2",
   "language": "python",
   "name": "python2"
  },
  "language_info": {
   "codemirror_mode": {
    "name": "ipython",
    "version": 2
   },
   "file_extension": ".py",
   "mimetype": "text/x-python",
   "name": "python",
   "nbconvert_exporter": "python",
   "pygments_lexer": "ipython2",
   "version": "2.7.11"
  }
 },
 "nbformat": 4,
 "nbformat_minor": 0
}
