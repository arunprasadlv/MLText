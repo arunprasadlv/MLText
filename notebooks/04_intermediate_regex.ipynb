{
 "cells": [
  {
   "cell_type": "markdown",
   "metadata": {},
   "source": [
    "# Intermediate Regular Expressions (Regex)"
   ]
  },
  {
   "cell_type": "markdown",
   "metadata": {},
   "source": [
    "## Agenda\n",
    "\n",
    "1. Greedy or lazy quantifiers\n",
    "2. Alternatives\n",
    "3. Substitution\n",
    "4. Anchors\n",
    "5. Option flags\n",
    "6. Lookarounds\n",
    "7. Assorted functionality"
   ]
  },
  {
   "cell_type": "code",
   "execution_count": null,
   "metadata": {
    "collapsed": true
   },
   "outputs": [],
   "source": [
    "# for Python 2: use print only as a function\n",
    "from __future__ import print_function"
   ]
  },
  {
   "cell_type": "code",
   "execution_count": null,
   "metadata": {
    "collapsed": true
   },
   "outputs": [],
   "source": [
    "import re"
   ]
  },
  {
   "cell_type": "markdown",
   "metadata": {},
   "source": [
    "## Part 1: Greedy or lazy quantifiers\n",
    "\n",
    "Quantifiers modify the **required quantity** of a character or a pattern.\n",
    "\n",
    "Quantifier|What it matches\n",
    "---|---\n",
    "**`a+`** | 1 or more occurrences of 'a' (the pattern directly to its left)\n",
    "**`a*`** | 0 or more occurrences of 'a'\n",
    "**`a?`** | 0 or 1 occurrence of 'a'"
   ]
  },
  {
   "cell_type": "code",
   "execution_count": null,
   "metadata": {
    "collapsed": true
   },
   "outputs": [],
   "source": [
    "s = 'sid is missing class'"
   ]
  },
  {
   "cell_type": "code",
   "execution_count": null,
   "metadata": {
    "collapsed": false
   },
   "outputs": [],
   "source": [
    "re.search(r'miss\\w+', s).group()"
   ]
  },
  {
   "cell_type": "code",
   "execution_count": null,
   "metadata": {
    "collapsed": false
   },
   "outputs": [],
   "source": [
    "re.search(r'is\\w*', s).group()"
   ]
  },
  {
   "cell_type": "code",
   "execution_count": null,
   "metadata": {
    "collapsed": false
   },
   "outputs": [],
   "source": [
    "re.search(r'is\\w+', s).group()"
   ]
  },
  {
   "cell_type": "markdown",
   "metadata": {},
   "source": [
    "**`+`** and **`*`** are **\"greedy\"**, meaning that they try to use up as much of the string as possible:"
   ]
  },
  {
   "cell_type": "code",
   "execution_count": null,
   "metadata": {
    "collapsed": true
   },
   "outputs": [],
   "source": [
    "s = 'Some text <h1>my heading</h1> More text'"
   ]
  },
  {
   "cell_type": "code",
   "execution_count": null,
   "metadata": {
    "collapsed": false
   },
   "outputs": [],
   "source": [
    "re.search(r'<.+>', s).group()"
   ]
  },
  {
   "cell_type": "markdown",
   "metadata": {},
   "source": [
    "Add a **`?`** after **`+`** or **`*`** to make them **\"lazy\"**, meaning that they try to use up as little of the string as possible:"
   ]
  },
  {
   "cell_type": "code",
   "execution_count": null,
   "metadata": {
    "collapsed": false
   },
   "outputs": [],
   "source": [
    "re.search(r'<.+?>', s).group()"
   ]
  },
  {
   "cell_type": "markdown",
   "metadata": {},
   "source": [
    "## Part 2: Alternatives\n",
    "\n",
    "Alternatives define **multiple possible patterns** that can be used to produce a match. They are separated by a pipe and put in parentheses:"
   ]
  },
  {
   "cell_type": "code",
   "execution_count": null,
   "metadata": {
    "collapsed": true
   },
   "outputs": [],
   "source": [
    "s = 'I live at 100 First St, which is around the corner.'"
   ]
  },
  {
   "cell_type": "code",
   "execution_count": null,
   "metadata": {
    "collapsed": false
   },
   "outputs": [],
   "source": [
    "re.search(r'\\d+ .+ (Ave|St|Rd)', s).group()"
   ]
  },
  {
   "cell_type": "markdown",
   "metadata": {},
   "source": [
    "## Part 3: Substitution\n",
    "\n",
    "`re.sub()` finds **all matches** in a given string and **replaces them** with a specified string:"
   ]
  },
  {
   "cell_type": "code",
   "execution_count": null,
   "metadata": {
    "collapsed": true
   },
   "outputs": [],
   "source": [
    "s = 'my twitter is @jimmy, my emails are john@hotmail.com and jim@yahoo.com'"
   ]
  },
  {
   "cell_type": "code",
   "execution_count": null,
   "metadata": {
    "collapsed": false
   },
   "outputs": [],
   "source": [
    "re.sub(r'jim', r'JIM', s)"
   ]
  },
  {
   "cell_type": "code",
   "execution_count": null,
   "metadata": {
    "collapsed": false
   },
   "outputs": [],
   "source": [
    "re.sub(r' @\\w+', r' @johnny', s)"
   ]
  },
  {
   "cell_type": "markdown",
   "metadata": {},
   "source": [
    "The replacement string can refer to text from **match groups**:\n",
    "\n",
    "- `\\1` refers to `group(1)`\n",
    "- `\\2` refers to `group(2)`\n",
    "- etc."
   ]
  },
  {
   "cell_type": "code",
   "execution_count": null,
   "metadata": {
    "collapsed": false
   },
   "outputs": [],
   "source": [
    "re.sub(r'(\\w+)@[\\w.]+', r'\\1@gmail.com', s)"
   ]
  },
  {
   "cell_type": "markdown",
   "metadata": {},
   "source": [
    "## Part 4: Anchors\n",
    "\n",
    "Anchors define **where in a string** the regular expression pattern must occur.\n",
    "\n",
    "Anchor|What it requires\n",
    "---|---\n",
    "**`^abc`** | this pattern must appear at the start of a string\n",
    "**`abc$`** | this pattern must appear at the end of a string"
   ]
  },
  {
   "cell_type": "code",
   "execution_count": null,
   "metadata": {
    "collapsed": true
   },
   "outputs": [],
   "source": [
    "s = 'sid is missing class'"
   ]
  },
  {
   "cell_type": "code",
   "execution_count": null,
   "metadata": {
    "collapsed": false
   },
   "outputs": [],
   "source": [
    "re.search(r'\\w+', s).group()"
   ]
  },
  {
   "cell_type": "code",
   "execution_count": null,
   "metadata": {
    "collapsed": false
   },
   "outputs": [],
   "source": [
    "re.search(r'\\w+$', s).group()"
   ]
  },
  {
   "cell_type": "code",
   "execution_count": null,
   "metadata": {
    "collapsed": false
   },
   "outputs": [],
   "source": [
    "# this will cause an error\n",
    "# re.search(r'^is', s).group()"
   ]
  },
  {
   "cell_type": "markdown",
   "metadata": {},
   "source": [
    "## Part 5: Option flags\n",
    "\n",
    "Options flags **change the default behavior** of the pattern matching.\n",
    "\n",
    "Default behavior | Option flag | Behavior when using flag\n",
    "---|---|---\n",
    "matching is case-sensitive | re.IGNORECASE | matching is case-insensitive\n",
    "**`.`** matches any character except a newline | re.DOTALL | **`.`** matches any character including a newline\n",
    "within a multi-line string, **`^`** and **`$`**<br>match start and end of entire string | re.MULTILINE | **`^`** and **`$`** matches start and end of each line\n",
    "spaces and **`#`** are treated as literal characters | re.VERBOSE | spaces and **`#`** are ignored (except in a character class or<br>when preceded by **`\\`**), and characters after **`#`** are ignored"
   ]
  },
  {
   "cell_type": "code",
   "execution_count": null,
   "metadata": {
    "collapsed": true
   },
   "outputs": [],
   "source": [
    "s = 'LINE one\\nLINE two'"
   ]
  },
  {
   "cell_type": "code",
   "execution_count": null,
   "metadata": {
    "collapsed": false
   },
   "outputs": [],
   "source": [
    "print(s)"
   ]
  },
  {
   "cell_type": "code",
   "execution_count": null,
   "metadata": {
    "collapsed": false
   },
   "outputs": [],
   "source": [
    "# case-sensitive\n",
    "re.search(r'..n.', s).group()"
   ]
  },
  {
   "cell_type": "code",
   "execution_count": null,
   "metadata": {
    "collapsed": false
   },
   "outputs": [],
   "source": [
    "# case-insensitive\n",
    "re.search(r'..n.', s, flags=re.IGNORECASE).group()"
   ]
  },
  {
   "cell_type": "code",
   "execution_count": null,
   "metadata": {
    "collapsed": false
   },
   "outputs": [],
   "source": [
    "# . does not match a newline\n",
    "re.search(r'n.+', s).group()"
   ]
  },
  {
   "cell_type": "code",
   "execution_count": null,
   "metadata": {
    "collapsed": false
   },
   "outputs": [],
   "source": [
    "# . matches a newline\n",
    "re.search(r'n.+', s, flags=re.DOTALL).group()"
   ]
  },
  {
   "cell_type": "code",
   "execution_count": null,
   "metadata": {
    "collapsed": false
   },
   "outputs": [],
   "source": [
    "# combine option flags\n",
    "re.search(r'n.+', s, flags=re.IGNORECASE|re.DOTALL).group()"
   ]
  },
  {
   "cell_type": "code",
   "execution_count": null,
   "metadata": {
    "collapsed": false
   },
   "outputs": [],
   "source": [
    "# $ matches end of entire string\n",
    "re.search(r'..o\\w*$', s).group()"
   ]
  },
  {
   "cell_type": "code",
   "execution_count": null,
   "metadata": {
    "collapsed": false
   },
   "outputs": [],
   "source": [
    "# $ matches end of each line\n",
    "re.search(r'..o\\w*$', s, flags=re.MULTILINE).group()"
   ]
  },
  {
   "cell_type": "code",
   "execution_count": null,
   "metadata": {
    "collapsed": false
   },
   "outputs": [],
   "source": [
    "# spaces are literal characters\n",
    "re.search(r' \\w+', s).group()"
   ]
  },
  {
   "cell_type": "code",
   "execution_count": null,
   "metadata": {
    "collapsed": false
   },
   "outputs": [],
   "source": [
    "# spaces are ignored\n",
    "re.search(r' \\w+', s, flags=re.VERBOSE).group()"
   ]
  },
  {
   "cell_type": "code",
   "execution_count": null,
   "metadata": {
    "collapsed": false
   },
   "outputs": [],
   "source": [
    "# use multi-line patterns and add comments in verbose mode\n",
    "re.search(r'''\n",
    "\\     # single space\n",
    "\\w+   # one or more word characters\n",
    "''', s, flags=re.VERBOSE).group()"
   ]
  },
  {
   "cell_type": "markdown",
   "metadata": {},
   "source": [
    "## Part 6: Lookarounds\n",
    "\n",
    "A **lookahead** matches a pattern only if it is **followed by** another pattern. For example:\n",
    "\n",
    "- `100(?= dollars)` matches `'100'` only if it is followed by `' dollars'`\n",
    "\n",
    "A **lookbehind** matches a pattern only if it is **preceded by** another pattern. For example:\n",
    "\n",
    "- `(?<=\\$)100` matches `'100'` only if it is preceded by `'$'`"
   ]
  },
  {
   "cell_type": "code",
   "execution_count": null,
   "metadata": {
    "collapsed": true
   },
   "outputs": [],
   "source": [
    "s = 'Name: Cindy, 66 inches tall, 30 years old'"
   ]
  },
  {
   "cell_type": "code",
   "execution_count": null,
   "metadata": {
    "collapsed": false
   },
   "outputs": [],
   "source": [
    "# find the age, without a lookahead\n",
    "re.search(r'(\\d+) years? old', s).group(1)"
   ]
  },
  {
   "cell_type": "code",
   "execution_count": null,
   "metadata": {
    "collapsed": false
   },
   "outputs": [],
   "source": [
    "# find the age, with a lookahead\n",
    "re.search(r'\\d+(?= years? old)', s).group()"
   ]
  },
  {
   "cell_type": "code",
   "execution_count": null,
   "metadata": {
    "collapsed": false
   },
   "outputs": [],
   "source": [
    "# find the name, without a lookbehind\n",
    "re.search(r'Name: (\\w+)', s).group(1)"
   ]
  },
  {
   "cell_type": "code",
   "execution_count": null,
   "metadata": {
    "collapsed": false
   },
   "outputs": [],
   "source": [
    "# find the name, with a lookbehind\n",
    "re.search(r'(?<=Name: )\\w+', s).group()"
   ]
  },
  {
   "cell_type": "markdown",
   "metadata": {},
   "source": [
    "## Part 7: Assorted functionality"
   ]
  },
  {
   "cell_type": "markdown",
   "metadata": {},
   "source": [
    "`re.compile()` compiles a regular expression pattern for **improved readability and performance** (if the pattern is used frequently):"
   ]
  },
  {
   "cell_type": "code",
   "execution_count": null,
   "metadata": {
    "collapsed": true
   },
   "outputs": [],
   "source": [
    "s = 'emails: john-doe@gmail.com and jane-doe@hotmail.com'"
   ]
  },
  {
   "cell_type": "code",
   "execution_count": null,
   "metadata": {
    "collapsed": true
   },
   "outputs": [],
   "source": [
    "email = re.compile(r'[\\w.-]+@[\\w.-]+')"
   ]
  },
  {
   "cell_type": "code",
   "execution_count": null,
   "metadata": {
    "collapsed": false
   },
   "outputs": [],
   "source": [
    "# these are all equivalent\n",
    "re.search(r'[\\w.-]+@[\\w.-]+', s).group()\n",
    "re.search(email, s).group()\n",
    "email.search(s).group()"
   ]
  },
  {
   "cell_type": "code",
   "execution_count": null,
   "metadata": {
    "collapsed": false
   },
   "outputs": [],
   "source": [
    "# these are all equivalent\n",
    "re.findall(r'[\\w.-]+@[\\w.-]+', s)\n",
    "re.findall(email, s)\n",
    "email.findall(s)"
   ]
  },
  {
   "cell_type": "markdown",
   "metadata": {},
   "source": [
    "Use the `span()` method of a match object, rather than the `group()` method, to determine the **location of a match**:"
   ]
  },
  {
   "cell_type": "code",
   "execution_count": null,
   "metadata": {
    "collapsed": false
   },
   "outputs": [],
   "source": [
    "re.search(email, s).span()"
   ]
  },
  {
   "cell_type": "code",
   "execution_count": null,
   "metadata": {
    "collapsed": false
   },
   "outputs": [],
   "source": [
    "s[8:26]"
   ]
  },
  {
   "cell_type": "markdown",
   "metadata": {},
   "source": [
    "`re.split()` **splits a string** by the occurrences of a regular expression pattern:"
   ]
  },
  {
   "cell_type": "code",
   "execution_count": null,
   "metadata": {
    "collapsed": false
   },
   "outputs": [],
   "source": [
    "re.split(r'john|jane', s)"
   ]
  }
 ],
 "metadata": {
  "kernelspec": {
   "display_name": "Python 2",
   "language": "python",
   "name": "python2"
  },
  "language_info": {
   "codemirror_mode": {
    "name": "ipython",
    "version": 2
   },
   "file_extension": ".py",
   "mimetype": "text/x-python",
   "name": "python",
   "nbconvert_exporter": "python",
   "pygments_lexer": "ipython2",
   "version": "2.7.11"
  }
 },
 "nbformat": 4,
 "nbformat_minor": 0
}
