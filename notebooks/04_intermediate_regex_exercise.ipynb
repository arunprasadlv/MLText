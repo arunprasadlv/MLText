{
 "cells": [
  {
   "cell_type": "markdown",
   "metadata": {},
   "source": [
    "# Intermediate Regex Exercises"
   ]
  },
  {
   "cell_type": "code",
   "execution_count": null,
   "metadata": {
    "collapsed": true
   },
   "outputs": [],
   "source": [
    "# for Python 2: use print only as a function\n",
    "from __future__ import print_function"
   ]
  },
  {
   "cell_type": "markdown",
   "metadata": {},
   "source": [
    "## Exercise 1: IMDb top 100 movies\n",
    "\n",
    "Data about the 100 highest rated movies has been been scraped from the IMDb website and stored in the file **`imdb_100.csv`** (in the **`data`** directory of the course repository)."
   ]
  },
  {
   "cell_type": "code",
   "execution_count": null,
   "metadata": {
    "collapsed": true
   },
   "outputs": [],
   "source": [
    "# read the file into a DataFrame\n",
    "import pandas as pd\n",
    "path = '../data/imdb_100.csv'\n",
    "imdb = pd.read_csv(path)"
   ]
  },
  {
   "cell_type": "code",
   "execution_count": null,
   "metadata": {
    "collapsed": false
   },
   "outputs": [],
   "source": [
    "imdb.columns"
   ]
  },
  {
   "cell_type": "code",
   "execution_count": null,
   "metadata": {
    "collapsed": true
   },
   "outputs": [],
   "source": [
    "# save the 'title' Series as a Python list\n",
    "titles = imdb.title.tolist()"
   ]
  },
  {
   "cell_type": "code",
   "execution_count": null,
   "metadata": {
    "collapsed": false
   },
   "outputs": [],
   "source": [
    "print(titles)"
   ]
  },
  {
   "cell_type": "markdown",
   "metadata": {},
   "source": [
    "Here are a few of the titles from this list:\n",
    "\n",
    "> `titles = [..., \"It's a Wonderful Life\", 'The Usual Suspects', 'Se7en', ...]`\n",
    "\n",
    "We want a revised list with the **initial article (A/An/The) removed**, without affecting the rest of the title. Here is the **expected output:**\n",
    "\n",
    "> `clean_titles = [..., \"It's a Wonderful Life\", 'Usual Suspects', 'Se7en', ...]`"
   ]
  },
  {
   "cell_type": "code",
   "execution_count": null,
   "metadata": {
    "collapsed": true
   },
   "outputs": [],
   "source": [
    "import re"
   ]
  },
  {
   "cell_type": "markdown",
   "metadata": {},
   "source": [
    "As a **bonus task**, add the removed article to the end of the title. Here is the **expected output:**\n",
    "\n",
    "> `better_titles = [..., \"It's a Wonderful Life\", 'Usual Suspects, The', 'Se7en', ...]`"
   ]
  },
  {
   "cell_type": "markdown",
   "metadata": {},
   "source": [
    "## Exercise 2: FAA tower closures, revisited\n",
    "\n",
    "A list of FAA tower closures has been copied from a [PDF](http://www.faa.gov/news/media/fct_closed.pdf) into the file **`faa.txt`**, which is stored in the **`data`** directory of the course repository."
   ]
  },
  {
   "cell_type": "code",
   "execution_count": null,
   "metadata": {
    "collapsed": true
   },
   "outputs": [],
   "source": [
    "# read the file into a single string\n",
    "with open('../data/faa.txt') as f:\n",
    "    data = f.read()"
   ]
  },
  {
   "cell_type": "code",
   "execution_count": null,
   "metadata": {
    "collapsed": true
   },
   "outputs": [],
   "source": [
    "# examine the first 300 characters\n",
    "print(data[0:300])"
   ]
  },
  {
   "cell_type": "code",
   "execution_count": null,
   "metadata": {
    "collapsed": true
   },
   "outputs": [],
   "source": [
    "# create a list of tuples containing the tower IDs and their states\n",
    "print(re.findall(r'([A-Z]{3}) .+ ([A-Z]{2})', data))"
   ]
  },
  {
   "cell_type": "markdown",
   "metadata": {},
   "source": [
    "Without changing the output, make this regular expression pattern more readable by using the **`re.VERBOSE`** option flag and adding comments."
   ]
  }
 ],
 "metadata": {
  "kernelspec": {
   "display_name": "Python 2",
   "language": "python",
   "name": "python2"
  },
  "language_info": {
   "codemirror_mode": {
    "name": "ipython",
    "version": 2
   },
   "file_extension": ".py",
   "mimetype": "text/x-python",
   "name": "python",
   "nbconvert_exporter": "python",
   "pygments_lexer": "ipython2",
   "version": "2.7.11"
  }
 },
 "nbformat": 4,
 "nbformat_minor": 0
}
