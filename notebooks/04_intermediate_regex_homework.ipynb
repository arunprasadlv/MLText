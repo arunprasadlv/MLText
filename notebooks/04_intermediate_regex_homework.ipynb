{
 "cells": [
  {
   "cell_type": "markdown",
   "metadata": {},
   "source": [
    "# Intermediate Regex Homework"
   ]
  },
  {
   "cell_type": "markdown",
   "metadata": {},
   "source": [
    "## UFO sightings\n",
    "\n",
    "The [ufo-reports](https://github.com/planetsig/ufo-reports) GitHub repository contains reports of UFO sightings downloaded from the [National UFO Reporting Center](http://www.nuforc.org/) website. One of the data fields is the **duration of the sighting**, which includes **free-form text**. These are some example entries:\n",
    "\n",
    "- 45 minutes\n",
    "- 1-2 hrs\n",
    "- 20 seconds\n",
    "- 1/2 hour\n",
    "- about 3 mins\n",
    "- several minutes\n",
    "- one hour?\n",
    "- 5min"
   ]
  },
  {
   "cell_type": "markdown",
   "metadata": {},
   "source": [
    "Here is **how to read in the file:**\n",
    "\n",
    "- Use the pandas **`read_csv()`** function to read directly from this [URL](https://raw.githubusercontent.com/planetsig/ufo-reports/master/csv-data/ufo-scrubbed-geocoded-time-standardized.csv).\n",
    "- Use the **`header=None`** parameter to specify that the data does not have a header row.\n",
    "- Use the **`nrows=100`** parameter to specify that you only want to read in the first 100 rows.\n",
    "- Save the relevant Series as a Python list, just like we did in a class exercise."
   ]
  },
  {
   "cell_type": "markdown",
   "metadata": {},
   "source": [
    "Your assignment is to **normalize the duration data for the first 100 rows** by splitting each entry into two parts:\n",
    "\n",
    "- The first part should be a **number**: either a whole number (such as '45') or a decimal (such as '0.5').\n",
    "- The second part should be a **unit of time**: either 'hr' or 'min' or 'sec'\n",
    "\n",
    "The expected output is a **list of tuples**, containing the **original (unedited) string**, the **number**, and the **unit of time**. Here is a what the output should look like:\n",
    "\n",
    "> `clean_durations = [('45 minutes', '45', 'min'), ('1-2 hrs', '1', 'hr'), ('20 seconds', '20', 'sec'), ...]`"
   ]
  },
  {
   "cell_type": "markdown",
   "metadata": {},
   "source": [
    "Here are the **\"rules\" and guiding principles** for this assignment:\n",
    "\n",
    "- The normalized duration does not have to be exactly correct, but it must be at least **within the given range**. For example:\n",
    "    - If the duration is '20-30 min', acceptable answers include '20 min' and '30 min'.\n",
    "    - If the duration is '1/2 hour', the only acceptable answer is '0.5 hr'.\n",
    "- When a number is not given, you should make a **\"reasonable\" substitution for the words**. For example:\n",
    "    - If the duration is 'several minutes', you can approximate this as '5 min'.\n",
    "    - If the duration is 'couple minutes', you can approximate this as '2 min'.\n",
    "- You are not allowed to **skip any entries**. (Your list of tuples should have a length of 100.)\n",
    "- Try to use **as few substitutions as possible**, and make your regular expression **as simple as possible**.\n",
    "- Just because you don't get an error doesn't mean that your code was successful. Instead, you should **check each entry by hand** to see if it produced an acceptable result."
   ]
  },
  {
   "cell_type": "markdown",
   "metadata": {},
   "source": [
    "**Bonus tasks:**\n",
    "\n",
    "- Try reading in **more than 100 rows**, and see if your code still produces the correct results.\n",
    "- When a range is specified (such as '1-2 hrs' or '10 to 15 sec'), **calculate the exact midpoint** ('1.5 hr' or '12.5 sec') to use in your normalized data."
   ]
  },
  {
   "cell_type": "code",
   "execution_count": 184,
   "metadata": {
    "collapsed": true
   },
   "outputs": [],
   "source": [
    "import pandas as pd\n",
    "import re"
   ]
  },
  {
   "cell_type": "code",
   "execution_count": 185,
   "metadata": {
    "collapsed": false
   },
   "outputs": [],
   "source": [
    "ufo = pd.read_csv('https://raw.githubusercontent.com/planetsig/ufo-reports/master/csv-data/ufo-scrubbed-geocoded-time-standardized.csv',header=None,nrows=100)"
   ]
  },
  {
   "cell_type": "code",
   "execution_count": 186,
   "metadata": {
    "collapsed": false
   },
   "outputs": [
    {
     "data": {
      "text/html": [
       "<div>\n",
       "<table border=\"1\" class=\"dataframe\">\n",
       "  <thead>\n",
       "    <tr style=\"text-align: right;\">\n",
       "      <th></th>\n",
       "      <th>0</th>\n",
       "      <th>1</th>\n",
       "      <th>2</th>\n",
       "      <th>3</th>\n",
       "      <th>4</th>\n",
       "      <th>5</th>\n",
       "      <th>6</th>\n",
       "      <th>7</th>\n",
       "      <th>8</th>\n",
       "      <th>9</th>\n",
       "      <th>10</th>\n",
       "    </tr>\n",
       "  </thead>\n",
       "  <tbody>\n",
       "    <tr>\n",
       "      <th>0</th>\n",
       "      <td>10/10/1949 20:30</td>\n",
       "      <td>san marcos</td>\n",
       "      <td>tx</td>\n",
       "      <td>us</td>\n",
       "      <td>cylinder</td>\n",
       "      <td>2700</td>\n",
       "      <td>45 minutes</td>\n",
       "      <td>This event took place in early fall around 194...</td>\n",
       "      <td>4/27/2004</td>\n",
       "      <td>29.883056</td>\n",
       "      <td>-97.941111</td>\n",
       "    </tr>\n",
       "    <tr>\n",
       "      <th>1</th>\n",
       "      <td>10/10/1949 21:00</td>\n",
       "      <td>lackland afb</td>\n",
       "      <td>tx</td>\n",
       "      <td>NaN</td>\n",
       "      <td>light</td>\n",
       "      <td>7200</td>\n",
       "      <td>1-2 hrs</td>\n",
       "      <td>1949 Lackland AFB&amp;#44 TX.  Lights racing acros...</td>\n",
       "      <td>12/16/2005</td>\n",
       "      <td>29.384210</td>\n",
       "      <td>-98.581082</td>\n",
       "    </tr>\n",
       "    <tr>\n",
       "      <th>2</th>\n",
       "      <td>10/10/1955 17:00</td>\n",
       "      <td>chester (uk/england)</td>\n",
       "      <td>NaN</td>\n",
       "      <td>gb</td>\n",
       "      <td>circle</td>\n",
       "      <td>20</td>\n",
       "      <td>20 seconds</td>\n",
       "      <td>Green/Orange circular disc over Chester&amp;#44 En...</td>\n",
       "      <td>1/21/2008</td>\n",
       "      <td>53.200000</td>\n",
       "      <td>-2.916667</td>\n",
       "    </tr>\n",
       "    <tr>\n",
       "      <th>3</th>\n",
       "      <td>10/10/1956 21:00</td>\n",
       "      <td>edna</td>\n",
       "      <td>tx</td>\n",
       "      <td>us</td>\n",
       "      <td>circle</td>\n",
       "      <td>20</td>\n",
       "      <td>1/2 hour</td>\n",
       "      <td>My older brother and twin sister were leaving ...</td>\n",
       "      <td>1/17/2004</td>\n",
       "      <td>28.978333</td>\n",
       "      <td>-96.645833</td>\n",
       "    </tr>\n",
       "    <tr>\n",
       "      <th>4</th>\n",
       "      <td>10/10/1960 20:00</td>\n",
       "      <td>kaneohe</td>\n",
       "      <td>hi</td>\n",
       "      <td>us</td>\n",
       "      <td>light</td>\n",
       "      <td>900</td>\n",
       "      <td>15 minutes</td>\n",
       "      <td>AS a Marine 1st Lt. flying an FJ4B fighter/att...</td>\n",
       "      <td>1/22/2004</td>\n",
       "      <td>21.418056</td>\n",
       "      <td>-157.803611</td>\n",
       "    </tr>\n",
       "  </tbody>\n",
       "</table>\n",
       "</div>"
      ],
      "text/plain": [
       "                 0                     1    2    3         4     5   \\\n",
       "0  10/10/1949 20:30            san marcos   tx   us  cylinder  2700   \n",
       "1  10/10/1949 21:00          lackland afb   tx  NaN     light  7200   \n",
       "2  10/10/1955 17:00  chester (uk/england)  NaN   gb    circle    20   \n",
       "3  10/10/1956 21:00                  edna   tx   us    circle    20   \n",
       "4  10/10/1960 20:00               kaneohe   hi   us     light   900   \n",
       "\n",
       "           6                                                  7           8   \\\n",
       "0  45 minutes  This event took place in early fall around 194...   4/27/2004   \n",
       "1     1-2 hrs  1949 Lackland AFB&#44 TX.  Lights racing acros...  12/16/2005   \n",
       "2  20 seconds  Green/Orange circular disc over Chester&#44 En...   1/21/2008   \n",
       "3    1/2 hour  My older brother and twin sister were leaving ...   1/17/2004   \n",
       "4  15 minutes  AS a Marine 1st Lt. flying an FJ4B fighter/att...   1/22/2004   \n",
       "\n",
       "          9           10  \n",
       "0  29.883056  -97.941111  \n",
       "1  29.384210  -98.581082  \n",
       "2  53.200000   -2.916667  \n",
       "3  28.978333  -96.645833  \n",
       "4  21.418056 -157.803611  "
      ]
     },
     "execution_count": 186,
     "metadata": {},
     "output_type": "execute_result"
    }
   ],
   "source": [
    "ufo.head(5)"
   ]
  },
  {
   "cell_type": "code",
   "execution_count": 187,
   "metadata": {
    "collapsed": false
   },
   "outputs": [
    {
     "data": {
      "text/plain": [
       "(100, 11)"
      ]
     },
     "execution_count": 187,
     "metadata": {},
     "output_type": "execute_result"
    }
   ],
   "source": [
    "ufo.shape"
   ]
  },
  {
   "cell_type": "code",
   "execution_count": 188,
   "metadata": {
    "collapsed": false
   },
   "outputs": [],
   "source": [
    "#converted the duration column to list\n",
    "durations= ufo[6].tolist()"
   ]
  },
  {
   "cell_type": "code",
   "execution_count": 189,
   "metadata": {
    "collapsed": false
   },
   "outputs": [
    {
     "data": {
      "text/plain": [
       "['45 minutes',\n",
       " '1-2 hrs',\n",
       " '20 seconds',\n",
       " '1/2 hour',\n",
       " '15 minutes',\n",
       " '5 minutes',\n",
       " 'about 3 mins',\n",
       " '20 minutes',\n",
       " '3  minutes',\n",
       " 'several minutes',\n",
       " '5 min.',\n",
       " '3 minutes',\n",
       " '30 min.',\n",
       " '3 minutes',\n",
       " '30 seconds',\n",
       " '20minutes',\n",
       " '2 minutes',\n",
       " '20-30 min',\n",
       " '20 sec.',\n",
       " '45 minutes',\n",
       " '20 minutes',\n",
       " 'one hour?',\n",
       " '5-6 minutes',\n",
       " '1 minute',\n",
       " '3 seconds',\n",
       " '30 seconds',\n",
       " 'approx: 30 seconds',\n",
       " '5min',\n",
       " '15 minutes',\n",
       " '4.5 or more min.',\n",
       " '3 minutes',\n",
       " '30mins.',\n",
       " '3 min',\n",
       " '5 minutes',\n",
       " '3 to 5 min',\n",
       " '2min',\n",
       " '1 minute',\n",
       " 'couple minutes',\n",
       " '15-20 seconds',\n",
       " '10min',\n",
       " '3 minutes',\n",
       " '10 minutes',\n",
       " 'few minutes',\n",
       " '1 minute',\n",
       " '2 sec.',\n",
       " 'approx 5 min',\n",
       " '1 minute',\n",
       " '3min',\n",
       " '2 minutes',\n",
       " '30 minutes',\n",
       " '10 minutes',\n",
       " '1 hour(?)',\n",
       " '10 seconds',\n",
       " '1min. 39s',\n",
       " '30 seconds',\n",
       " '20 minutes',\n",
       " '8 seconds',\n",
       " 'less than 1 min',\n",
       " '1 hour',\n",
       " '2 minutes',\n",
       " '5 seconds',\n",
       " '~1 hour',\n",
       " '2 min.',\n",
       " '1 minute',\n",
       " '3sec',\n",
       " '5 min',\n",
       " '5 min',\n",
       " '1 minute',\n",
       " '4 hours',\n",
       " '30 seconds',\n",
       " '<5 minutes',\n",
       " '1-hour',\n",
       " '5 minutes',\n",
       " '10 to 15 sec',\n",
       " '30 +/- min',\n",
       " '10 minutes',\n",
       " '45min.',\n",
       " '< 1 min',\n",
       " '10 minutes',\n",
       " '2 seconds',\n",
       " '2 hours',\n",
       " '15 seconds',\n",
       " '1 hour',\n",
       " '5-10 min.',\n",
       " '10 seconds',\n",
       " '1 hour',\n",
       " '45 secs',\n",
       " '60-90 sec',\n",
       " '3 hours',\n",
       " '5 min',\n",
       " 'several minutes',\n",
       " '4 minutes',\n",
       " '45 minutes',\n",
       " '3 minutes',\n",
       " '10 seconds',\n",
       " '30seconds',\n",
       " '45 seconds',\n",
       " '15 seconds',\n",
       " '30 min.',\n",
       " '4-5 seconds']"
      ]
     },
     "execution_count": 189,
     "metadata": {},
     "output_type": "execute_result"
    }
   ],
   "source": [
    "durations"
   ]
  },
  {
   "cell_type": "code",
   "execution_count": 190,
   "metadata": {
    "collapsed": false
   },
   "outputs": [],
   "source": [
    "duration_min = [re.sub(r'(([0-9]+) *(minte|minutes|min.|mins|minute|min. ))', r'\\1 \\2 min', duration) for duration in durations]"
   ]
  },
  {
   "cell_type": "code",
   "execution_count": 191,
   "metadata": {
    "collapsed": false
   },
   "outputs": [
    {
     "data": {
      "text/plain": [
       "['45 minutes 45 min',\n",
       " '1-2 hrs',\n",
       " '20 seconds',\n",
       " '1/2 hour',\n",
       " '15 minutes 15 min',\n",
       " '5 minutes 5 min',\n",
       " 'about 3 mins 3 min',\n",
       " '20 minutes 20 min',\n",
       " '3  minutes 3 min',\n",
       " 'several minutes',\n",
       " '5 min. 5 min',\n",
       " '3 minutes 3 min',\n",
       " '30 min. 30 min',\n",
       " '3 minutes 3 min',\n",
       " '30 seconds',\n",
       " '20minutes 20 min',\n",
       " '2 minutes 2 min',\n",
       " '20-30 min',\n",
       " '20 sec.',\n",
       " '45 minutes 45 min',\n",
       " '20 minutes 20 min',\n",
       " 'one hour?',\n",
       " '5-6 minutes 6 min',\n",
       " '1 minu 1 minte',\n",
       " '3 seconds',\n",
       " '30 seconds',\n",
       " 'approx: 30 seconds',\n",
       " '5min',\n",
       " '15 minutes 15 min',\n",
       " '4.5 or more min.',\n",
       " '3 minutes 3 min',\n",
       " '30mins 30 min.',\n",
       " '3 min',\n",
       " '5 minutes 5 min',\n",
       " '3 to 5 min',\n",
       " '2min',\n",
       " '1 minu 1 minte',\n",
       " 'couple minutes',\n",
       " '15-20 seconds',\n",
       " '10min',\n",
       " '3 minutes 3 min',\n",
       " '10 minutes 10 min',\n",
       " 'few minutes',\n",
       " '1 minu 1 minte',\n",
       " '2 sec.',\n",
       " 'approx 5 min',\n",
       " '1 minu 1 minte',\n",
       " '3min',\n",
       " '2 minutes 2 min',\n",
       " '30 minutes 30 min',\n",
       " '10 minutes 10 min',\n",
       " '1 hour(?)',\n",
       " '10 seconds',\n",
       " '1min. 1 min 39s',\n",
       " '30 seconds',\n",
       " '20 minutes 20 min',\n",
       " '8 seconds',\n",
       " 'less than 1 min',\n",
       " '1 hour',\n",
       " '2 minutes 2 min',\n",
       " '5 seconds',\n",
       " '~1 hour',\n",
       " '2 min. 2 min',\n",
       " '1 minu 1 minte',\n",
       " '3sec',\n",
       " '5 min',\n",
       " '5 min',\n",
       " '1 minu 1 minte',\n",
       " '4 hours',\n",
       " '30 seconds',\n",
       " '<5 minutes 5 min',\n",
       " '1-hour',\n",
       " '5 minutes 5 min',\n",
       " '10 to 15 sec',\n",
       " '30 +/- min',\n",
       " '10 minutes 10 min',\n",
       " '45min. 45 min',\n",
       " '< 1 min',\n",
       " '10 minutes 10 min',\n",
       " '2 seconds',\n",
       " '2 hours',\n",
       " '15 seconds',\n",
       " '1 hour',\n",
       " '5-10 min. 10 min',\n",
       " '10 seconds',\n",
       " '1 hour',\n",
       " '45 secs',\n",
       " '60-90 sec',\n",
       " '3 hours',\n",
       " '5 min',\n",
       " 'several minutes',\n",
       " '4 minutes 4 min',\n",
       " '45 minutes 45 min',\n",
       " '3 minutes 3 min',\n",
       " '10 seconds',\n",
       " '30seconds',\n",
       " '45 seconds',\n",
       " '15 seconds',\n",
       " '30 min. 30 min',\n",
       " '4-5 seconds']"
      ]
     },
     "execution_count": 191,
     "metadata": {},
     "output_type": "execute_result"
    }
   ],
   "source": [
    "duration_min"
   ]
  },
  {
   "cell_type": "code",
   "execution_count": 200,
   "metadata": {
    "collapsed": false
   },
   "outputs": [
    {
     "ename": "AttributeError",
     "evalue": "'NoneType' object has no attribute 'group'",
     "output_type": "error",
     "traceback": [
      "\u001b[1;31m---------------------------------------------------------------------------\u001b[0m",
      "\u001b[1;31mAttributeError\u001b[0m                            Traceback (most recent call last)",
      "\u001b[1;32m<ipython-input-200-b49543dbc6ff>\u001b[0m in \u001b[0;36m<module>\u001b[1;34m()\u001b[0m\n\u001b[1;32m----> 1\u001b[1;33m \u001b[1;33m[\u001b[0m\u001b[0mre\u001b[0m\u001b[1;33m.\u001b[0m\u001b[0msearch\u001b[0m\u001b[1;33m(\u001b[0m\u001b[1;34mr'1-2 hrs'\u001b[0m\u001b[1;33m,\u001b[0m\u001b[0mduration\u001b[0m\u001b[1;33m)\u001b[0m\u001b[1;33m.\u001b[0m\u001b[0mgroup\u001b[0m\u001b[1;33m(\u001b[0m\u001b[1;33m)\u001b[0m \u001b[1;32mfor\u001b[0m \u001b[0mduration\u001b[0m \u001b[1;32min\u001b[0m \u001b[0mduration_min\u001b[0m\u001b[1;33m]\u001b[0m\u001b[1;33m\u001b[0m\u001b[0m\n\u001b[0m",
      "\u001b[1;31mAttributeError\u001b[0m: 'NoneType' object has no attribute 'group'"
     ]
    }
   ],
   "source": [
    "[re.search(r'1-2 hrs',duration) for duration in duration_min]"
   ]
  },
  {
   "cell_type": "code",
   "execution_count": 196,
   "metadata": {
    "collapsed": false
   },
   "outputs": [
    {
     "ename": "AttributeError",
     "evalue": "'list' object has no attribute 'group'",
     "output_type": "error",
     "traceback": [
      "\u001b[1;31m---------------------------------------------------------------------------\u001b[0m",
      "\u001b[1;31mAttributeError\u001b[0m                            Traceback (most recent call last)",
      "\u001b[1;32m<ipython-input-196-44e6ed0db2ce>\u001b[0m in \u001b[0;36m<module>\u001b[1;34m()\u001b[0m\n\u001b[1;32m----> 1\u001b[1;33m \u001b[0mmatch\u001b[0m\u001b[1;33m.\u001b[0m\u001b[0mgroup\u001b[0m\u001b[1;33m\u001b[0m\u001b[0m\n\u001b[0m",
      "\u001b[1;31mAttributeError\u001b[0m: 'list' object has no attribute 'group'"
     ]
    }
   ],
   "source": []
  },
  {
   "cell_type": "code",
   "execution_count": null,
   "metadata": {
    "collapsed": true
   },
   "outputs": [],
   "source": []
  }
 ],
 "metadata": {
  "kernelspec": {
   "display_name": "Python 2",
   "language": "python",
   "name": "python2"
  },
  "language_info": {
   "codemirror_mode": {
    "name": "ipython",
    "version": 2
   },
   "file_extension": ".py",
   "mimetype": "text/x-python",
   "name": "python",
   "nbconvert_exporter": "python",
   "pygments_lexer": "ipython2",
   "version": "2.7.11"
  }
 },
 "nbformat": 4,
 "nbformat_minor": 0
}
