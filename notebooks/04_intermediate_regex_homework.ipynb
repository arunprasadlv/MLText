{
 "cells": [
  {
   "cell_type": "markdown",
   "metadata": {},
   "source": [
    "# Intermediate Regex Homework"
   ]
  },
  {
   "cell_type": "markdown",
   "metadata": {},
   "source": [
    "## UFO sightings\n",
    "\n",
    "The [ufo-reports](https://github.com/planetsig/ufo-reports) GitHub repository contains reports of UFO sightings downloaded from the [National UFO Reporting Center](http://www.nuforc.org/) website. One of the data fields is the **duration of the sighting**, which includes **free-form text**. These are some example entries:\n",
    "\n",
    "- 45 minutes\n",
    "- 1-2 hrs\n",
    "- 20 seconds\n",
    "- 1/2 hour\n",
    "- about 3 mins\n",
    "- several minutes\n",
    "- one hour?\n",
    "- 5min"
   ]
  },
  {
   "cell_type": "markdown",
   "metadata": {},
   "source": [
    "Here is **how to read in the file:**\n",
    "\n",
    "- Use the pandas **`read_csv()`** function to read directly from this [URL](https://raw.githubusercontent.com/planetsig/ufo-reports/master/csv-data/ufo-scrubbed-geocoded-time-standardized.csv).\n",
    "- Use the **`header=None`** parameter to specify that the data does not have a header row.\n",
    "- Use the **`nrows=100`** parameter to specify that you only want to read in the first 100 rows.\n",
    "- Save the relevant Series as a Python list, just like we did in a class exercise."
   ]
  },
  {
   "cell_type": "markdown",
   "metadata": {},
   "source": [
    "Your assignment is to **normalize the duration data for the first 100 rows** by splitting each entry into two parts:\n",
    "\n",
    "- The first part should be a **number**: either a whole number (such as '45') or a decimal (such as '0.5').\n",
    "- The second part should be a **unit of time**: either 'hr' or 'min' or 'sec'\n",
    "\n",
    "The expected output is a **list of tuples**, containing the **original (unedited) string**, the **number**, and the **unit of time**. Here is a what the output should look like:\n",
    "\n",
    "> `clean_durations = [('45 minutes', '45', 'min'), ('1-2 hrs', '1', 'hr'), ('20 seconds', '20', 'sec'), ...]`"
   ]
  },
  {
   "cell_type": "markdown",
   "metadata": {},
   "source": [
    "Here are the **\"rules\" and guiding principles** for this assignment:\n",
    "\n",
    "- The normalized duration does not have to be exactly correct, but it must be at least **within the given range**. For example:\n",
    "    - If the duration is '20-30 min', acceptable answers include '20 min' and '30 min'.\n",
    "    - If the duration is '1/2 hour', the only acceptable answer is '0.5 hr'.\n",
    "- When a number is not given, you should make a **\"reasonable\" substitution for the words**. For example:\n",
    "    - If the duration is 'several minutes', you can approximate this as '5 min'.\n",
    "    - If the duration is 'couple minutes', you can approximate this as '2 min'.\n",
    "- You are not allowed to **skip any entries**. (Your list of tuples should have a length of 100.)\n",
    "- Try to use **as few substitutions as possible**, and make your regular expression **as simple as possible**.\n",
    "- Just because you don't get an error doesn't mean that your code was successful. Instead, you should **check each entry by hand** to see if it produced an acceptable result."
   ]
  },
  {
   "cell_type": "markdown",
   "metadata": {},
   "source": [
    "**Bonus tasks:**\n",
    "\n",
    "- Try reading in **more than 100 rows**, and see if your code still produces the correct results.\n",
    "- When a range is specified (such as '1-2 hrs' or '10 to 15 sec'), **calculate the exact midpoint** ('1.5 hr' or '12.5 sec') to use in your normalized data."
   ]
  }
 ],
 "metadata": {
  "kernelspec": {
   "display_name": "Python 2",
   "language": "python",
   "name": "python2"
  },
  "language_info": {
   "codemirror_mode": {
    "name": "ipython",
    "version": 2
   },
   "file_extension": ".py",
   "mimetype": "text/x-python",
   "name": "python",
   "nbconvert_exporter": "python",
   "pygments_lexer": "ipython2",
   "version": "2.7.11"
  }
 },
 "nbformat": 4,
 "nbformat_minor": 0
}
